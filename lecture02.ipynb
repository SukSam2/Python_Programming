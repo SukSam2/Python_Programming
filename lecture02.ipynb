{
 "cells": [
  {
   "cell_type": "markdown",
   "metadata": {},
   "source": [
    "# 파이썬 프로그래밍 02 \n",
    "### Part 3"
   ]
  },
  {
   "cell_type": "markdown",
   "metadata": {},
   "source": [
    "### **목차**\n",
    "#### 7장. 함수와 모듈, 라이브러리 패키지\n",
    "#### 8장. 고급 파이 I/O\n",
    "#### 9장. 객체지향 프로그래밍 (클래스)\n",
    "\n",
    "--------  \n",
    "-------\n",
    "<br>\n",
    "<br>\n",
    "<br>\n"
   ]
  },
  {
   "cell_type": "markdown",
   "metadata": {},
   "source": [
    "### Part 3 - 7장 | 함수, 모듈, 라이브러리 패키지\n",
    "\n",
    "<br>\n",
    "\n",
    "#### 함수\n",
    "* 정의\n",
    "    * 특정 작업 수행하는 명령어들의 모음\n",
    "    * 작업 결과 호출\n",
    "    * 함수 실행하려면 호출(call)해야한다.\n",
    "\n",
    "<br>\n",
    "\n",
    "* 장점\n",
    "    * 프로그램 안에서 중복된 코드 제거\n",
    "    * 복잡한 작업을 더 간단하게 작업할 수 있음\n",
    "    * 다른 프로그램에서 재사용 가능\n",
    "    * 함수 단위로 협업 가능\n",
    "    * 추상화 : 주어진 입력에 대한 출력의 과정이 숨겨짐\n",
    "\n",
    "<br>\n",
    "\n",
    "이제는 메소드도 function이다.  \n",
    "object 하나를 define 하는 데 여러 개의 함수가 존재하는 함수라고 볼 수 있다.  \n",
    "divide & conquer 큰 문제를 나눠서 해결해나가는 것 => 함수의 핵심!  \n",
    "\n",
    "<br>\n",
    "\n",
    "* Python 함수 종류\n",
    "    * 내장함수\n",
    "        * 설정 없이 사용 가능\n",
    "    * 라이브러리 패키지\n",
    "        * import 명령문 사용해 라이브러리 포함시킨 후 사용\n",
    "    * 사용자 정의 함수\n",
    "        * User-defined 함수\n",
    "\n",
    "[import 암묵적 순서]\n",
    "> 시스템 라이브러리 -> math 등 이용할 라이브러리 -> 사용자정의 함수\n",
    "\n",
    "<br>\n",
    "\n",
    "----\n",
    "**용어 정리**\n",
    "* 패키지 vs 모듈\n",
    "    * 모듈\n",
    "        * .py 파일은 모듈, 들어있는 함수의 개수는 상관 없다.\n",
    "        * function과 function을 테스트하기 위한 명령문이 남겨져있다.\n",
    "        * 코드 내에서 메인 프로그램을 돌릴 수 있으면 모듈이라고 한다.\n",
    "        * 단독으로 function 테스트할 수 있어야 한다.\n",
    "        * _main 이 있으면 모듈이라고 한다.\n",
    "    * 패키지\n",
    "        * 모듈의 set, 모듈 여러 개\n",
    "        * 디렉토리 레벨 정도\n",
    "\n",
    "<br>\n",
    "\n",
    "다른 파일의 function define 하면 모듈.  \n",
    "사용자 정의 함수 호출할 때 import.  \n",
    "\n",
    "<br>\n",
    "\n",
    "#### 사용자 정의 함수\n"
   ]
  },
  {
   "cell_type": "code",
   "execution_count": 1,
   "metadata": {},
   "outputs": [
    {
     "data": {
      "text/plain": [
       "' 함수 형식\\ndef 함수이름(매개변수1, 매개변수2, ...):\\n    statements\\n    return 값\\n'"
      ]
     },
     "execution_count": 1,
     "metadata": {},
     "output_type": "execute_result"
    }
   ],
   "source": [
    "''' 함수 형식\n",
    "def 함수이름(매개변수1, 매개변수2, ...):\n",
    "    statements\n",
    "    return 값\n",
    "'''"
   ]
  },
  {
   "cell_type": "markdown",
   "metadata": {},
   "source": [
    "* 함수의 이름\n",
    "    * 함수 목적 설명 동사 or 동사_명사\n",
    "\n",
    "<br>\n",
    "\n",
    "* 함수 호출\n",
    "    * call\n",
    "    * 여러 번 호출 가능\n",
    "    * 호출 시 값 지정해 함수에 전달할 수 있음\n",
    "    \n",
    "<br>\n",
    "\n",
    "* 함수는 사용하기 전에 정의되어 있어야 한다.\n",
    "    * import를 먼저 해야함\n",
    "    * 그 다음 defined function 나온다.\n",
    "\n",
    "<br>\n",
    "\n",
    "* 함수 호출 시 필요한 값\n",
    "    * 인수 - 함수로 전해지는 값\n",
    "    * 매개변수 - 함수에서 인수 전달받는 변수\n",
    "    * 반환값 - return 으로 수행 결과 돌려주는 값\n",
    "\n",
    "<br>\n",
    "\n",
    "> def func(*args):  \n",
    "* 가변인수\n",
    "    * call by reference\n",
    "    * 함수의 인수 갯수가 정해져있지 않고 가변적으로 호출\n",
    "\n",
    "<br>\n",
    "여러 가변 수의 합을 출력하는 함수  "
   ]
  },
  {
   "cell_type": "code",
   "execution_count": 3,
   "metadata": {},
   "outputs": [
    {
     "name": "stdout",
     "output_type": "stream",
     "text": [
      "Sum is 0\n",
      "Sum is 15\n",
      "전체 합은 15 입니다.\n"
     ]
    }
   ],
   "source": [
    "def print_sum(*nums, sumfmt = \"Sum is %d\"):\n",
    "    sum = 0\n",
    "    for n in nums:\n",
    "        sum+=n\n",
    "    print(sumfmt%sum)\n",
    "\n",
    "print_sum()\n",
    "print_sum(1, 2, 3, 4, 5)\n",
    "print_sum(1, 2, 3, 4, 5, sumfmt = \"전체 합은 %d 입니다.\")"
   ]
  },
  {
   "cell_type": "markdown",
   "metadata": {},
   "source": [
    "<br> <br>\n",
    "\n",
    "\n",
    "#### 함수 호출하기\n",
    "인수 가지고 함수 호출 시, 인수 자체는 변경되지 않음.  \n",
    "그러나 인수 내부 아이템은 변경된다.  \n",
    "\n"
   ]
  },
  {
   "cell_type": "code",
   "execution_count": 4,
   "metadata": {},
   "outputs": [
    {
     "name": "stdout",
     "output_type": "stream",
     "text": [
      "Hello!\n",
      "Hello!\n"
     ]
    }
   ],
   "source": [
    "# 1\n",
    "\n",
    "def modify1(s):\n",
    "   s = \"Welcome\"\n",
    "\n",
    "msg = \"Hello!\"\n",
    "print(msg)\n",
    "modify1(msg)\n",
    "print(msg)\n"
   ]
  },
  {
   "cell_type": "markdown",
   "metadata": {},
   "source": [
    "여기서 s를 print(s) 하면?"
   ]
  },
  {
   "cell_type": "code",
   "execution_count": 7,
   "metadata": {},
   "outputs": [
    {
     "name": "stdout",
     "output_type": "stream",
     "text": [
      "Hello!\n",
      "Hello!\n"
     ]
    },
    {
     "ename": "NameError",
     "evalue": "name 's' is not defined",
     "output_type": "error",
     "traceback": [
      "\u001b[1;31m---------------------------------------------------------------------------\u001b[0m",
      "\u001b[1;31mNameError\u001b[0m                                 Traceback (most recent call last)",
      "\u001b[1;32mc:\\Users\\032\\Desktop\\파이썬\\lecture02.ipynb 셀 10\u001b[0m in \u001b[0;36m<cell line: 9>\u001b[1;34m()\u001b[0m\n\u001b[0;32m      <a href='vscode-notebook-cell:/c%3A/Users/032/Desktop/%ED%8C%8C%EC%9D%B4%EC%8D%AC/lecture02.ipynb#ch0000017?line=5'>6</a>\u001b[0m modify1(msg)\n\u001b[0;32m      <a href='vscode-notebook-cell:/c%3A/Users/032/Desktop/%ED%8C%8C%EC%9D%B4%EC%8D%AC/lecture02.ipynb#ch0000017?line=6'>7</a>\u001b[0m \u001b[39mprint\u001b[39m(msg)\n\u001b[1;32m----> <a href='vscode-notebook-cell:/c%3A/Users/032/Desktop/%ED%8C%8C%EC%9D%B4%EC%8D%AC/lecture02.ipynb#ch0000017?line=8'>9</a>\u001b[0m \u001b[39mprint\u001b[39m(s)\n",
      "\u001b[1;31mNameError\u001b[0m: name 's' is not defined"
     ]
    }
   ],
   "source": [
    "def modify1(s):\n",
    "   s = \"Welcome\"\n",
    "\n",
    "msg = \"Hello!\"\n",
    "print(msg)\n",
    "modify1(msg)\n",
    "print(msg)\n",
    "\n",
    "print(s) ## 정의되지 않은 변수이다. 함수 안에서만 매개변수로 존재"
   ]
  },
  {
   "cell_type": "code",
   "execution_count": 8,
   "metadata": {},
   "outputs": [
    {
     "name": "stdout",
     "output_type": "stream",
     "text": [
      "[1, 2, 3]\n",
      "[1, 2, 3]\n"
     ]
    }
   ],
   "source": [
    "# 2\n",
    "def modify1(L):\n",
    "   L = ['a','b','c']\n",
    "\n",
    "lst = [1,2,3]\n",
    "print(lst)\n",
    "modify1(lst)\n",
    "print(lst)"
   ]
  },
  {
   "cell_type": "markdown",
   "metadata": {},
   "source": [
    "함수 안에서 리스트를 변경하고 밖에서 다시 그 리스트를 return 하지 않은채로 print() 하면?"
   ]
  },
  {
   "cell_type": "code",
   "execution_count": 9,
   "metadata": {},
   "outputs": [
    {
     "name": "stdout",
     "output_type": "stream",
     "text": [
      "[1, 2, 3]\n",
      "['a', 2, 3]\n"
     ]
    }
   ],
   "source": [
    "# 3\n",
    "def modify1(L):\n",
    "   L[0] = 'a'\n",
    "\n",
    "lst = [1,2,3]\n",
    "print(lst)\n",
    "modify1(lst)\n",
    "print(lst)\n",
    "\n"
   ]
  },
  {
   "cell_type": "code",
   "execution_count": 12,
   "metadata": {},
   "outputs": [
    {
     "name": "stdout",
     "output_type": "stream",
     "text": [
      "[3, 2, 1]\n",
      "['a', 2, 'd']\n"
     ]
    }
   ],
   "source": [
    "def modify1(L):\n",
    "   L[0] = 'a'\n",
    "   lst[2] = 'd'\n",
    "\n",
    "lst = [3, 2, 1]\n",
    "print(lst)\n",
    "modify1(lst)\n",
    "print(lst)\n"
   ]
  },
  {
   "cell_type": "markdown",
   "metadata": {},
   "source": [
    "return 하지 않아도 바뀐 내용은 return된다.  \n",
    "그리고 매개변수가 아닌 그냥 리스트명으로 수정해도 반영된다.  \n",
    "**다시 잘 이해해보기**\n",
    "\n",
    "\n",
    "<br>\n",
    "<br>\n",
    "\n",
    "-----\n",
    "\n",
    "<br>\n",
    "\n",
    "### map 함수와 filter 함수\n",
    "\n",
    "#### map 함수\n",
    "여러 값을 갖는 iterable 객체에 함수를 사용   \n"
   ]
  },
  {
   "cell_type": "code",
   "execution_count": 13,
   "metadata": {},
   "outputs": [
    {
     "name": "stdout",
     "output_type": "stream",
     "text": [
      "[1, 4, 9, 16, 25]\n"
     ]
    }
   ],
   "source": [
    "lst = [1,2,3,4,5]\n",
    "\n",
    "def square(n):\n",
    "    return n*n\n",
    "\n",
    "sq_lst = []\n",
    "for n in lst:\n",
    "    sqn = square(n)\n",
    "    sq_lst.append(sqn)\n",
    "print(sq_lst)"
   ]
  },
  {
   "cell_type": "code",
   "execution_count": 14,
   "metadata": {},
   "outputs": [
    {
     "name": "stdout",
     "output_type": "stream",
     "text": [
      "[1, 4, 9, 16, 25]\n"
     ]
    }
   ],
   "source": [
    "lst = [1,2,3,4,5]\n",
    "\n",
    "def square(n):\n",
    "    return n*n\n",
    "\n",
    "lst2 = map(square, lst)\n",
    "sq_lst = list(lst2)\n",
    "print(sq_lst)\n"
   ]
  },
  {
   "cell_type": "markdown",
   "metadata": {},
   "source": [
    "#### filter 함수\n",
    "여러 값을 갖는 iterable 객체에 함수를 적용\n",
    "\n",
    "\n"
   ]
  },
  {
   "cell_type": "code",
   "execution_count": 15,
   "metadata": {},
   "outputs": [
    {
     "name": "stdout",
     "output_type": "stream",
     "text": [
      "[1, 2]\n"
     ]
    }
   ],
   "source": [
    "lst = [1,2,3,4,5]\n",
    "\n",
    "def less3(n):\n",
    "    if n < 3: return True\n",
    "    else: return False\n",
    "sq_lst = []\n",
    "for n in lst:\n",
    "    if less3(n):\n",
    "        sq_lst.append(n)\n",
    "print(sq_lst)\n"
   ]
  },
  {
   "cell_type": "code",
   "execution_count": 16,
   "metadata": {},
   "outputs": [
    {
     "name": "stdout",
     "output_type": "stream",
     "text": [
      "[1, 2]\n"
     ]
    }
   ],
   "source": [
    "lst = [1,2,3,4,5]\n",
    "\n",
    "def less3(n):\n",
    "    if n < 3: return True\n",
    "    else: return False\n",
    "lst2 = filter(less3, lst)\n",
    "sq_lst = list(lst2)\n",
    "print(sq_lst)\n"
   ]
  },
  {
   "cell_type": "markdown",
   "metadata": {},
   "source": [
    "#### lambda 함수\n",
    "이름없는 함수  \n",
    "**함수의 인수로 함수를 넣어야 할 때** 유용하게 사용된다."
   ]
  },
  {
   "cell_type": "code",
   "execution_count": 19,
   "metadata": {},
   "outputs": [
    {
     "name": "stdout",
     "output_type": "stream",
     "text": [
      "[1, 4, 9, 16, 25]\n"
     ]
    }
   ],
   "source": [
    "lst = [1,2,3,4,5]\n",
    "def square(n):\n",
    "    return n*n\n",
    "lst2 = map(square, lst)\n",
    "sq_lst = list(lst2)\n",
    "print(sq_lst)\n"
   ]
  },
  {
   "cell_type": "code",
   "execution_count": 20,
   "metadata": {},
   "outputs": [
    {
     "name": "stdout",
     "output_type": "stream",
     "text": [
      "[1, 4, 9, 16, 25]\n"
     ]
    }
   ],
   "source": [
    "lst = [1,2,3,4,5]\n",
    "\n",
    "lst2 = map(lambda x: x*x, lst)\n",
    "sq_lst = list(lst2)\n",
    "print(sq_lst)\n"
   ]
  },
  {
   "cell_type": "code",
   "execution_count": 21,
   "metadata": {},
   "outputs": [
    {
     "name": "stdout",
     "output_type": "stream",
     "text": [
      "[1, 2]\n"
     ]
    }
   ],
   "source": [
    "lst = [1,2,3,4,5]\n",
    "def less3(n):\n",
    "    if n < 3: return True\n",
    "    else: return False\n",
    "lst2 = filter(less3, lst)\n",
    "sq_lst = list(lst2)\n",
    "print(sq_lst)\n"
   ]
  },
  {
   "cell_type": "code",
   "execution_count": 22,
   "metadata": {},
   "outputs": [
    {
     "name": "stdout",
     "output_type": "stream",
     "text": [
      "[1, 2]\n"
     ]
    }
   ],
   "source": [
    "lst = [1,2,3,4,5]\n",
    "\n",
    "lst2 = filter(lambda x: x < 3, lst)\n",
    "sq_lst = list(lst2)\n",
    "print(sq_lst)\n"
   ]
  },
  {
   "cell_type": "markdown",
   "metadata": {},
   "source": [
    "훨씬 간단하게 한 줄로 표현된다.  \n",
    "**!! 잘 익혀놓기**\n",
    "\n",
    "<br> \n",
    "\n",
    "리스트 프로세싱으로 lambda 함수 잘 이용한다.  \n",
    "[lambda [ ]]  \n",
    "map과 filter의 차이는 T/F인지, 그 결과가 아닌지에 따라 다르다.  \n",
    "\n",
    "<br>\n",
    "\n",
    "##### lambda 함수 사용 예\n",
    "여러 수를 한 번에 입력받아 수의 리스트로 변환하는 프로그램\n",
    "\n"
   ]
  },
  {
   "cell_type": "code",
   "execution_count": 28,
   "metadata": {},
   "outputs": [
    {
     "name": "stdout",
     "output_type": "stream",
     "text": [
      "[5, 48, 5, 36, 41, 2]\n"
     ]
    }
   ],
   "source": [
    "lst = input(\"Enter numbers: \")\n",
    "lst = lst.split()\n",
    "num_lst = list(map(lambda s: int(s), lst))\n",
    "print(num_lst)"
   ]
  },
  {
   "cell_type": "code",
   "execution_count": 31,
   "metadata": {},
   "outputs": [
    {
     "name": "stdout",
     "output_type": "stream",
     "text": [
      "[5, 5, 5, 5, 5, 5]\n"
     ]
    }
   ],
   "source": [
    "lst = input(\"Enter numbers: \")\n",
    "lst = lst.split()\n",
    "num_lst = list(int(s) for s in lst)\n",
    "print(num_lst)"
   ]
  },
  {
   "cell_type": "markdown",
   "metadata": {},
   "source": [
    "<br>\n",
    "\n",
    "----\n",
    "----\n",
    "\n",
    "<br> <br>\n",
    "\n",
    "#### 재귀합수\n",
    "Recursive Function  \n",
    "함수 안에서 자기 자신을 호출  \n",
    "\n",
    "<br>\n",
    "<br>\n",
    "\n",
    "### 지역변수와 전역변수\n",
    "변수 생성 시점 = 변수에 값을 할당했을 때(Assignment)\n",
    "* 전역변수\n",
    "    * 모든 함수의 외부에서 생성, 모든 함수에서 접근 가능\n",
    "    * 프로그램 전체에서 사용 가능\n",
    "    * 함수 안에서 접근 가능 But 수정하면 오류 발생\n",
    "* 지역변수\n",
    "    * 함수 내에서 생성된 변수, 매개변수도 지역변수\n",
    "    * 함수 내에서만 사용 가능\n",
    "    * 함수 종료 후 소멸됨\n",
    "\n",
    "* 주의\n",
    "    * 지역변수와 전역변수 이름 같게 하지 말자.\n",
    "<br>\n"
   ]
  },
  {
   "cell_type": "code",
   "execution_count": 32,
   "metadata": {},
   "outputs": [
    {
     "name": "stdout",
     "output_type": "stream",
     "text": [
      "사과가 좋음!\n",
      "바나나가 좋음!\n",
      "바나나가 좋음!\n"
     ]
    }
   ],
   "source": [
    "def sub():\n",
    "\tglobal   s\n",
    "\n",
    "\tprint(s)  ## global이 없다면 이 프린트문도 없어야 함\n",
    "\ts = \"바나나가 좋음!\"\n",
    "\tprint(s)\n",
    "\n",
    "s = \"사과가 좋음!\"\n",
    "sub()\n",
    "print(s)"
   ]
  },
  {
   "cell_type": "markdown",
   "metadata": {},
   "source": [
    "나머지 내용은 슬라이드에서 슥 보기!\n",
    "\n",
    "<br> <br>\n",
    "\n",
    "------\n",
    "\n",
    "<br> <br>\n",
    "\n",
    "### 라이브러리와 모듈\n",
    "#### 모듈\n",
    "함수나 변수들을 모아 놓은 파일\n",
    "* 사용자 생성 모듈\n",
    "    * 프로그래머가 직접 작성\n",
    "* 표준 모듈\n",
    "    * import 사용\n",
    "* 외부 모듈\n",
    "    * pip install로 설치 후 import 사용"
   ]
  },
  {
   "cell_type": "markdown",
   "metadata": {},
   "source": [
    "\n",
    "\n",
    "\n",
    "> from my_math import *  \n",
    "\n",
    "모듈이름.함수 말고 바로 함수만 사용할 수 있다."
   ]
  },
  {
   "cell_type": "markdown",
   "metadata": {},
   "source": [
    "<br>\n",
    "\n",
    "* 파이썬 표준 모듈\n",
    "    * 파이썬 설치 시 기본으로 제공해주는 모듈\n",
    "    * 따로 만들지 않아도 import로 사용 가능\n",
    "    * 파이썬 설치 폴더에 설명과 script 파일 존재한다.\n",
    "    * IDLE에서 scrip file 볼 수 있다.\n",
    "    * 좋은 코드이므로 리뷰해보면 도움 많이 될 것.\n",
    "<br>\n",
    "\n"
   ]
  },
  {
   "cell_type": "code",
   "execution_count": 33,
   "metadata": {},
   "outputs": [
    {
     "name": "stdout",
     "output_type": "stream",
     "text": [
      "6\n",
      "3\n"
     ]
    },
    {
     "data": {
      "text/plain": [
       "['BPF', 'LOG4', 'NV_MAGICCONST', 'RECIP_BPF', 'Random']"
      ]
     },
     "execution_count": 33,
     "metadata": {},
     "output_type": "execute_result"
    }
   ],
   "source": [
    "import random\n",
    "print(random.randint(1, 6)) # 1~6 사이의 임의의 정수를 반환\n",
    "print(random.randint(1, 6))\n",
    "myList = [\"red\", \"green\", \"blue\"]\n",
    "random.choice(myList)  # 주어진 리스트 안에서 임의의 원소를 반환\n",
    "dir(random)[0:5]\n"
   ]
  },
  {
   "cell_type": "markdown",
   "metadata": {},
   "source": [
    "<br>\n",
    "\n",
    "\n",
    "* 외부 모듈 / 라이브러리\n",
    "    * pip 명령어 이용해 설치해야 사용 가능\n",
    "* 라이브러리 패키지\n",
    "    * numpy, django, pandas, matplotlib 등\n",
    "    * numpy는 math에서 온 것\n",
    "    * pandas는 R이라는 통계 패키지에서 왔다.\n",
    "    * django는 웹 서비스 프레임워크 / 장고보다는 Flask를 많이 쓴다.(가벼움)\n",
    "\n",
    "<br>\n",
    "\n",
    "powershell에서 \"pip install numpy\" 해보자.  \n",
    "-> 모듈 오픈하면 코드 모두 볼 수 있다.\n",
    "\n",
    "\n",
    "<br>\n",
    "\n",
    "------\n",
    "\n",
    "<br>\n",
    "\n",
    "#### Turtle 그래픽 모듈\n",
    "\n",
    "import turtle 해주고 이용해보자.  \n",
    "GUI 프로그래밍에서 더 자세하게 배울 예정이므로 한 번 해보고 넘어가면 된다.\n",
    "\n",
    "\n",
    "<br>\n",
    "\n",
    "-----  \n",
    "\n",
    "<br>"
   ]
  },
  {
   "cell_type": "markdown",
   "metadata": {},
   "source": [
    "### 파이썬 라이브러리\n",
    "* 파이썬 공식 홈페이지\n",
    "    * https://www.python.org/\n",
    "* 파이썬 라이브러리 패키지 커뮤니티\n",
    "    * https://pypi.org/\n",
    "* 전세계 최대 공개소프트웨어 커뮤니티 (깃허브)\n",
    "    * https://github.com/\n",
    "\n",
    "혹시 완벽하게 원하는 라이브러리가 없다면 오픈소스이므로 코드 가져와서 수정하여 써도 된다.\n",
    "\n",
    "\n",
    "<br>\n",
    "\n",
    "* 내 PC의 파이썬 프로그램 관련 파일(Window 위주)\n",
    "    * 파이썬 기본 폴더\n",
    "        C:\\Users\\YPJ\\AppData\\Local\\Programs\\Python\\Python39\n",
    "    * 파이썬 폴더 구성 프로그램\n",
    "        * python.exe\n",
    "        * pythonw.exe\n",
    "        * Scripts 폴더: pip.exe, pip3.exe 등\n",
    "        * Lib 폴더: 파이썬 라이브러리 모듈\n",
    "        * random, turtle 등 기본 라이브러리들 (파일, 폴더 형태)\n",
    "        * site-packages 폴더: pip install … 에 의해 설치된 라이브러리들이 설치된 폴더\n",
    "\n",
    "<br>\n",
    "\n",
    "* 라이브러리 활용(매크로 프로그램 작성)\n",
    "    * 시스템 명령 (파일, 폴더 관련, 명령실행, 마우스와 키보드 조작 등) 라이브러리\n",
    "        * os: 폴더 이동, 리스트 검색, 파일 생성, 복제, 명령어 실행, 제거 등\n",
    "        * mouse: 마우스 좌표 조회, 이동, 클릭 등\n",
    "        * pyautogui: 마우스 움직임, 키보드 입력, 이동, 지연 조절 등\n",
    "    * 웹 크롤링 (Selenium)\n",
    "        * 웹브라우저 생성\n",
    "        * 웹페이지 분석, 구동, 선택, 클릭 등 브라우저 조작\n",
    "\n",
    "\n",
    "\n",
    "<br>\n",
    "\n",
    "-----  \n",
    "-----  \n",
    "\n",
    "<br>\n",
    "\n",
    "## Part 3 - 8장 | 다양한 파일 입출력 처리\n",
    "### CSV/EXCEL 파일 다루기\n",
    "\n",
    "\n",
    "#### CSV 파일\n",
    "CSV(Comma Seperated Value) : 콤마로 구분된 파일  \n",
    "텍스트 문서파일 형태, 메모장이나 엑셀로 편집 가능  \n",
    "\n",
    "요즘의 csv/excel 파일  \n",
    "-> .xlsx 파일의 마지막 x는 xml을 뜻한다.  \n",
    "-> markup 쓰고 그 안에 데이터 넣는 것.  \n",
    "\n",
    "* 파이썬에서 csv 파일 다루기\n",
    "    * 파일 객체 사용하기\n",
    "        * line by line으로 읽을 때도 있음 (Unicode 등 인코딩 문제 발생 시)\n",
    "    * CSV 객체 사용하기(CSV 라이브러리 사용)\n",
    "    * Pandas Dataframe 객체 사용하기(Pandas 라이브러리 사용)\n",
    "    * Pandas -> CSV -> 파일객체 사용 순으로 권한다.\n",
    "\n",
    "\n",
    "\n",
    "<br>\n",
    "\n",
    "1. 파일 객체 이용해 csv 파일 다루기\n",
    "\n"
   ]
  },
  {
   "cell_type": "code",
   "execution_count": 38,
   "metadata": {},
   "outputs": [],
   "source": [
    "f_in = open('temper.csv', 'r', newline='', encoding='utf-8')\n",
    "f_out = open('temper-m.csv', 'w', newline='', encoding='utf-8')\n",
    "header = f_in.readline()\n",
    "newheader = header.replace(\"평균\",\"중간\")\n",
    "f_out.write(newheader)\n",
    "\n",
    "for row in f_in:\n",
    "    if row == '\\r\\n': break\t# finish at end-line\n",
    "    rowLst = row.split(',')\n",
    "    rowLst[2] = str((float(rowLst[3]) + float(rowLst[4])) / 2)\n",
    "    f_out.write(','.join(rowLst))\n",
    "\n",
    "f_in.close()\n",
    "f_out.close()"
   ]
  },
  {
   "cell_type": "code",
   "execution_count": 40,
   "metadata": {},
   "outputs": [],
   "source": [
    "with open('temper.csv', 'r', newline='', encoding='utf-8') as f_in:\n",
    "    with open('temper-m.csv', 'w', newline='', encoding='utf-8') as f_out:\n",
    "        header = f_in.readline()\n",
    "        newheader = header.replace(\"평균\",\"중간\")\n",
    "        f_out.write(newheader)\n",
    "\n",
    "        for row in f_in:\n",
    "            if row == '\\r\\n': break\t# finish at end-line\n",
    "            rowLst = row.split(',')\n",
    "            rowLst[2] = str((float(rowLst[3]) + float(rowLst[4])) / 2)\n",
    "            f_out.write(','.join(rowLst))\n"
   ]
  },
  {
   "cell_type": "markdown",
   "metadata": {},
   "source": [
    "2. csv 모듈 사용해 csv 데이터 다루기"
   ]
  },
  {
   "cell_type": "code",
   "execution_count": 41,
   "metadata": {},
   "outputs": [],
   "source": [
    "import csv\n",
    "\n",
    "with open('temper.csv', 'r', newline='', encoding='utf-8') as f_in:\n",
    "    with open('temper-m.csv', 'w', newline='', encoding='utf-8') as f_out:\n",
    "        data = csv.reader(f_in)\n",
    "        outcsv = csv.writer(f_out)\n",
    "        header = next(data)\t# header = ['날짜','지점','평균기온(℃)','최저기온(℃)','최고기온(℃)']\n",
    "        header[2] = \"중간기온(℃)\"\n",
    "        outcsv.writerow(header)\n",
    "        for row in data:\t\t# 첫번쨰 row = ['1907-10-01', '108', 14.3, 7.9, 20.7]\n",
    "            if not row: break\t# finish at end-line\n",
    "            row[2] = str((float(row[3]) + float(row[4])) / 2)\n",
    "            outcsv.writerow(row)\n"
   ]
  },
  {
   "cell_type": "markdown",
   "metadata": {},
   "source": [
    "3. Pandas 모듈 사용해 CSV 데이터 다루기"
   ]
  },
  {
   "cell_type": "code",
   "execution_count": 45,
   "metadata": {},
   "outputs": [],
   "source": [
    "import pandas as pd\n",
    "## 이전에 power shell에서 pip install pandas 해줘야 함.\n",
    "\n",
    "df = pd.read_csv(\"temper.csv\", encoding='utf-8')\n",
    "df = df.rename(columns={'평균기온(℃)':'중간기온(℃)'})\n",
    "df['중간기온(℃)'] = (df['최저기온(℃)'] + df['최고기온(℃)']) / 2\n",
    "df.to_csv(\"temper-m.csv\", index=False, encoding='utf-8')\n"
   ]
  },
  {
   "cell_type": "markdown",
   "metadata": {},
   "source": [
    "<br>\n",
    "\n",
    "----\n",
    "\n",
    "<br>\n",
    "\n",
    "### 한글 인코딩과 데이터프레임\n",
    "#### 파일 처리 시 한글 인코딩 문제\n",
    "\n",
    "* 한글이 포함된 파일 읽을 때 유니코드 오류 발생 주의.  \n",
    "    * 문자코드는 Unicode 형태로 전세계 문자로 표준화된 코드체계로 표현하고 있음\n",
    "    * 컴퓨터에서 문자를 처리할 때 자체적 효율성을 위해 별도의 인코딩 방식을 사용하고 있음\n",
    "        * UTF-8: 가변길이 Unicode 방식(1~4바이트 사용)으로 가장 많이 사용되고 있음\n",
    "        * EUC-KR: 완성형 한글 인코딩 방식으로 한글 2350자 까지만 표현\n",
    "        * CP949: 확장 완성형으로 MS Windows의 기본 한글 인코딩 방식 (EUC-KR과 호환)\n",
    "    * 파일을 저장하거나 읽을 때 인코딩 방식을 맞춰주어야 됨\n",
    "\n",
    "\n",
    "\n",
    "\n",
    "<br>\n",
    "\n",
    "----\n",
    "\n",
    "<br>"
   ]
  },
  {
   "cell_type": "markdown",
   "metadata": {},
   "source": [
    "## Part 3 - 9장 | 객체 지향 프로그래밍\n",
    "Object Oriented Programming\n",
    "\n",
    "\n",
    "#### 객체\n",
    "* 개념\n",
    "    * 수많은 사물 = 객체(Object) - 프로그래밍 관점\n",
    "    * 정의 : 어떤 속성과 행동을 가지고 있는 데이터\n",
    "    * EX\n",
    "        객체 : 자동차  \n",
    "        속성 : 제조사, 색상, 배기량  \n",
    "        행동 : 전진(), 가속(), 후진(), 정지()  \n",
    "\n",
    "<br>\n",
    "\n",
    "* 문자열 객체(String)\n",
    "    * Ex - 여기서 myStr은 String 객체"
   ]
  },
  {
   "cell_type": "code",
   "execution_count": 48,
   "metadata": {},
   "outputs": [
    {
     "name": "stdout",
     "output_type": "stream",
     "text": [
      "FIRSTMYLIFE\n",
      "2\n",
      "True\n"
     ]
    }
   ],
   "source": [
    "myStr = \"FirstMyLife\"\n",
    "print(myStr.upper())\n",
    "print(myStr.count('i'))\n",
    "print(myStr.isalpha())"
   ]
  },
  {
   "cell_type": "markdown",
   "metadata": {},
   "source": [
    "<br>\n",
    "\n",
    "* 객체 지향\n",
    "    * 어떤 객체를 기준으로 이름이나 속성, 행동, 함수 등을 위주로 프로그래밍\n",
    "    * 패러다임 중 가장 중요한 것\n",
    "        * Hidden abstraction 추상화\n",
    "        * 추상화 기능 중 1 = 감추는 것\n",
    "        * '증가'라는 행동의 명령어는 볼 필요 없고, 단지 '증가'를 사용하는 것\n",
    "\n",
    "<br>\n",
    "\n",
    "### 클래스와 객체\n",
    "#### 클래스\n",
    "\n",
    "보통 프로그램에서 type()과 비슷한 의미.  \n",
    "클래스는 object를 찍어내며, 메소드도 기술할 수 있다.(action)  \n",
    "Ex ) 붕어빵 틀 = **클래스**, 붕어빵들 = **객체**, 프라이팬에 데운다 = 액션/**메소드**, 팥과 슈크림 등 = 내용물/**속성**\n",
    "\n",
    "> class class_name :\n",
    "> (Tab) 클래스 생성코드(속성과 행동)\n",
    "* Define 방법\n",
    "    * 속성 - 변수로 생성\n",
    "    * 행동 - 함수/메소드로 구현\n",
    "\n",
    "\n",
    "<br>\n",
    "\n",
    "ex. 토끼 클래스 생성"
   ]
  },
  {
   "cell_type": "code",
   "execution_count": 50,
   "metadata": {},
   "outputs": [],
   "source": [
    "'''\n",
    "class Rabbit :\n",
    "    # 토끼의 속성(변수)\n",
    "    모양 = \"\"\n",
    "    X위치 = 0\n",
    "    Y위치 = 0\n",
    "    \n",
    "    # 토끼의 행동(메소드)\n",
    "    goto(이동할 좌표) :\t# 토끼를 이동할 좌표로 이동시키는 코드\n",
    "\n",
    "'''\n",
    "'''\n",
    "class Rabbit :\n",
    "    shape = \"\" # 토끼 모양\n",
    "    xPos = 0   # X위치\n",
    "    yPos = 0   # Y위치\n",
    "\n",
    "    def goto(self, x, y) :\n",
    "\t    self.xPos = x\n",
    "\t    self.yPos = y\n",
    "\n",
    "'''\n"
   ]
  },
  {
   "cell_type": "markdown",
   "metadata": {},
   "source": [
    "토끼 객체 생성  \n",
    "객체 코드 실행(속성, 행동)"
   ]
  },
  {
   "cell_type": "code",
   "execution_count": 51,
   "metadata": {},
   "outputs": [],
   "source": [
    "# 객체 생성\n",
    "rabbit1 = Rabbit()\n",
    "rabbit2 = Rabbit()\n",
    "\n",
    "# 객체 코드 실행(속성)\n",
    "rabbit1.shape = \"원\"\n",
    "rabbit2.shape = \"삼각형\"\n",
    "\n",
    "# 객체 코드 실행(행동)\n",
    "rabbit1.goto(100,100)\n",
    "# rabbit1의 위치를 (100,100)으로 이동\n",
    "rabbit2.goto(200,200)"
   ]
  },
  {
   "cell_type": "markdown",
   "metadata": {},
   "source": [
    "토끼 이동 프로그램"
   ]
  },
  {
   "cell_type": "code",
   "execution_count": 52,
   "metadata": {},
   "outputs": [
    {
     "name": "stdout",
     "output_type": "stream",
     "text": [
      "토끼의 현재 위치는 (0, 0)\n",
      "토끼의 현재 위치는 (100, 100)\n",
      "토끼의 현재 위치는 (200, 0)\n"
     ]
    },
    {
     "ename": "ValueError",
     "evalue": "invalid literal for int() with base 10: ''",
     "output_type": "error",
     "traceback": [
      "\u001b[1;31m---------------------------------------------------------------------------\u001b[0m",
      "\u001b[1;31mValueError\u001b[0m                                Traceback (most recent call last)",
      "\u001b[1;32mc:\\Users\\032\\Desktop\\파이썬\\lecture02.ipynb 셀 51\u001b[0m in \u001b[0;36m<cell line: 13>\u001b[1;34m()\u001b[0m\n\u001b[0;32m     <a href='vscode-notebook-cell:/c%3A/Users/032/Desktop/%ED%8C%8C%EC%9D%B4%EC%8D%AC/lecture02.ipynb#ch0000062?line=11'>12</a>\u001b[0m \u001b[39mwhile\u001b[39;00m \u001b[39mTrue\u001b[39;00m :\n\u001b[0;32m     <a href='vscode-notebook-cell:/c%3A/Users/032/Desktop/%ED%8C%8C%EC%9D%B4%EC%8D%AC/lecture02.ipynb#ch0000062?line=12'>13</a>\u001b[0m     \u001b[39mprint\u001b[39m(\u001b[39m\"\u001b[39m\u001b[39m토끼의 현재 위치는 (\u001b[39m\u001b[39m{}\u001b[39;00m\u001b[39m, \u001b[39m\u001b[39m{}\u001b[39;00m\u001b[39m)\u001b[39m\u001b[39m\"\u001b[39m\u001b[39m.\u001b[39mformat(rabbit\u001b[39m.\u001b[39mxPos, rabbit\u001b[39m.\u001b[39myPos))\n\u001b[1;32m---> <a href='vscode-notebook-cell:/c%3A/Users/032/Desktop/%ED%8C%8C%EC%9D%B4%EC%8D%AC/lecture02.ipynb#ch0000062?line=13'>14</a>\u001b[0m     userX \u001b[39m=\u001b[39m \u001b[39mint\u001b[39;49m(\u001b[39minput\u001b[39;49m(\u001b[39m\"\u001b[39;49m\u001b[39m토끼가 이동할 좌표: \u001b[39;49m\u001b[39m\"\u001b[39;49m))\n\u001b[0;32m     <a href='vscode-notebook-cell:/c%3A/Users/032/Desktop/%ED%8C%8C%EC%9D%B4%EC%8D%AC/lecture02.ipynb#ch0000062?line=14'>15</a>\u001b[0m     userY \u001b[39m=\u001b[39m \u001b[39mint\u001b[39m(\u001b[39minput\u001b[39m(\u001b[39m\"\u001b[39m\u001b[39m토끼가 이동할 Y좌표: \u001b[39m\u001b[39m\"\u001b[39m))\n\u001b[0;32m     <a href='vscode-notebook-cell:/c%3A/Users/032/Desktop/%ED%8C%8C%EC%9D%B4%EC%8D%AC/lecture02.ipynb#ch0000062?line=15'>16</a>\u001b[0m     rabbit\u001b[39m.\u001b[39mgoto(userX, userY)\n",
      "\u001b[1;31mValueError\u001b[0m: invalid literal for int() with base 10: ''"
     ]
    }
   ],
   "source": [
    "# class Rabbit :  # 클래스 정의\n",
    "#     shape = \"\"\n",
    "#     xPos = 0\n",
    "#     yPos = 0\n",
    "#     def goto(self, x, y) :\n",
    "#         self.xPos = x\n",
    "#         self.yPos = y\n",
    "\n",
    "# ## 메인 코드\n",
    "# rabbit = Rabbit()\n",
    "# rabbit.shape = \"토끼\"\n",
    "# while True :\n",
    "#     print(\"토끼의 현재 위치는 ({}, {})\".format(rabbit.xPos, rabbit.yPos))\n",
    "#     userX = int(input(\"토끼가 이동할 X좌표: \"))\n",
    "#     userY = int(input(\"토끼가 이동할 Y좌표: \"))\n",
    "#     rabbit.goto(userX, userY)\n",
    "\n",
    "# 끝나지 않음 -> ctrl + c 하면 끝남."
   ]
  },
  {
   "cell_type": "markdown",
   "metadata": {},
   "source": [
    "### 생성자와 소멸자\n",
    "#### 생성자\n",
    "객체를 생성하면서 변수 값을 초기화하는 메소드  \n",
    "* \\_\\_init__() : initialize\n",
    "\n",
    "def \\_\\_init__(self, value):\n",
    "(Tab) self.shape = value\n"
   ]
  },
  {
   "cell_type": "code",
   "execution_count": 53,
   "metadata": {},
   "outputs": [],
   "source": [
    "# class Rabbit :  # 클래스 정의\n",
    "#     shape = \"\"\n",
    "#     xPos = 0\n",
    "#     yPos = 0\n",
    "#     def __init__(self, value) :\n",
    "#         self.shape = value\n",
    "#     def __del__(self, value) :\n",
    "#         self.shape = \"\"\n",
    "#     def goto(self, x, y) :\n",
    "#         self.xPos = x\n",
    "#         self.yPos = y\n",
    "\n",
    "# ## 메인 코드\n",
    "# rabbit = Rabbit(\"토끼\")\t# rabbit = Rabbit()\n",
    "\t\t\t\t# rabbit.shape = \"토끼\"\n",
    "# while True :\n",
    "#     print(\"토끼의 현재 위치는 ({}, {})\".format(rabbit.xPos, rabbit.yPos))\n",
    "#     userX = int(input(\"토끼가 이동할 좌표: \"))\n",
    "#     userY = int(input(\"토끼가 이동할 Y좌표: \"))\n",
    "#     rabbit.goto(userX, userY)\n"
   ]
  },
  {
   "cell_type": "markdown",
   "metadata": {},
   "source": [
    "<br>\n",
    "\n",
    "### 클래스의 상속\n",
    "#### 상속\n",
    "기존의 클래스가 가지고 있는 속성과 행동을 물려받아 새로운 클래스를 만드는 것  \n",
    "상속을 받은 이후에는 새로운 클래스에서 추가로 속성이나 행동을 만들어서 사용  \n",
    "\n",
    "예시\n",
    "* 산토끼와 집토끼\n",
    "    토끼라는 클래스의 속성을 상속받아 집토끼와 산토끼의 클래스를 만듬\n",
    "    * 슈퍼 클래스 : 상위 클래스인 토끼 클래스\n",
    "    * 서브 클래스 : 하위 클래스인 집토끼와 산토끼 클래스\n",
    "        * 집토끼: 토끼 클래스의 속성, 행동 + 추가 속성, 행동 (주인이름, 모이먹기 등)\n",
    "        * 산토끼: 토끼 클래스의 속성, 행동 + 추가 속성, 행동 (산이름, 들플먹기 등)\n"
   ]
  },
  {
   "cell_type": "code",
   "execution_count": 54,
   "metadata": {},
   "outputs": [],
   "source": [
    "class Rabbit :\n",
    "    shape = \"\"\n",
    "    xPos = 0\n",
    "    yPos = 0\n",
    "    def goto(self, x, y) :\n",
    "        self.xPos = x\n",
    "        self.yPos = y\n",
    "\n",
    "class HouseRabbit(Rabbit) :\n",
    "    owner = \"\"\n",
    "    def eatFeed() :\n",
    "        print(\"집토끼가 모이를 먹습니다\")\n",
    "\n",
    "class MountainRabbit(Rabbit) :\n",
    "    mountain = \"\"\n",
    "    def eatWildglass() :\n",
    "        print(\"산토끼가 들풀을 먹습니다\")\n"
   ]
  },
  {
   "cell_type": "markdown",
   "metadata": {},
   "source": [
    "Rabbit을 상속받으면 Class Rabbit을 상속받아 생성자 먼저 호출됨.  \n",
    "그리고 서브클래스의 속성과 메소드 실행됨. \n",
    "\n",
    "<br>\n",
    "\n",
    "간단한 집합 객체 구현"
   ]
  },
  {
   "cell_type": "code",
   "execution_count": 55,
   "metadata": {},
   "outputs": [
    {
     "name": "stdout",
     "output_type": "stream",
     "text": [
      "[]\n",
      "[1, 2, 3]\n",
      "[1, 2, 3, 4]\n"
     ]
    }
   ],
   "source": [
    "class mySet:  # list로 set class 구현\n",
    "    items=None\n",
    "    def __init__(self, *value):\n",
    "        self.items = list()\n",
    "        for n in value:\n",
    "            self.add(n)\n",
    "    def contain(self, item):\n",
    "        return item in self.items\n",
    "    def add(self, item):\n",
    "        if not self.contain(item): self.items.append(item)\n",
    "    def delete(self, item):\n",
    "        if self.contain(item): self.items.remove(item)\n",
    "\n",
    "a = mySet()\n",
    "print(a.items)\n",
    "b = mySet(1, 2, 3, 1)\n",
    "print(b.items)\n",
    "b.add(4)\n",
    "print(b.items)"
   ]
  },
  {
   "cell_type": "markdown",
   "metadata": {},
   "source": []
  }
 ],
 "metadata": {
  "kernelspec": {
   "display_name": "Python 3.9.13 64-bit",
   "language": "python",
   "name": "python3"
  },
  "language_info": {
   "codemirror_mode": {
    "name": "ipython",
    "version": 3
   },
   "file_extension": ".py",
   "mimetype": "text/x-python",
   "name": "python",
   "nbconvert_exporter": "python",
   "pygments_lexer": "ipython3",
   "version": "3.9.13"
  },
  "orig_nbformat": 4,
  "vscode": {
   "interpreter": {
    "hash": "5baf9473204a4b6e521a61d6cc00f38b3193fa95bdc9c384faf30949a18537e0"
   }
  }
 },
 "nbformat": 4,
 "nbformat_minor": 2
}
