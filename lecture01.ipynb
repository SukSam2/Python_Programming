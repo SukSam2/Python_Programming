{
 "cells": [
  {
   "cell_type": "markdown",
   "metadata": {},
   "source": [
    "# 파이썬 프로그래밍 01\n",
    "## Part 2"
   ]
  },
  {
   "cell_type": "markdown",
   "metadata": {},
   "source": [
    "항상 프로그래밍 하기 전에 pip 실행 업그레이드 한다.\n",
    "pip install -upgrade pip  # IDLE\n",
    "\n",
    "현재 3.10 개발중이라면 안정적인 3.9의 최신버전 다운로드 받는 것을 추천."
   ]
  },
  {
   "cell_type": "markdown",
   "metadata": {},
   "source": [
    "## Part 2 - 2 변수와 자료형\n",
    "\n",
    "* 프로그래밍 언어의 문법\n",
    "1. Assignment Statement (a = b)\n",
    "2. Conditional Statement (if (a = b) print(a) )\n",
    "3. Repeated Statement (for i in range(10))\n",
    "4. Input / Output Statement"
   ]
  },
  {
   "cell_type": "markdown",
   "metadata": {},
   "source": [
    "### Variable 변수\n",
    "컴퓨터에서의 Variable = '저장'의 개념  \n",
    "저장할 값에 '자료형' 지정  \n",
    "* integer, float, double 등  <br>\n",
    "\n",
    "요즘은 메모리에 큰 신경 쓰지 않는다.\n",
    "\n",
    "### 변수 생성\n",
    "Python에서 변수 - 값이 할당되는 순간에 생성\n",
    "a = b + c 문장이라면 b와 c가 더해지고 나서 a에 할당되는 순간에 a 변수가 생성되는 것\n",
    "\n",
    "변수의 type 지정하지 않으므로 생성된 변수에는 다른 값 저장할 수 있다.  \n",
    "항상 assignment statement는 '변수' = '수식' 형태이다.  \n",
    "var1 = 200 이라면 수식은 200 값 하나 있는 할당문인 것.  \n",
    "\n",
    "### 변수 이름 짓기\n",
    "Python은 대소문자 구분 해준다.  \n",
    "다음의 키워드들은 변수이름으로 사용 불가.\n",
    "\n",
    "PEP # 파이썬을 잘 사용하는 방법 알아보기(이름짓기)"
   ]
  },
  {
   "cell_type": "code",
   "execution_count": 9,
   "metadata": {},
   "outputs": [
    {
     "data": {
      "text/plain": [
       "['False', 'None', 'True', '__peg_parser__', 'and']"
      ]
     },
     "execution_count": 9,
     "metadata": {},
     "output_type": "execute_result"
    }
   ],
   "source": [
    "import keyword\n",
    "keyword.kwlist[0:5]"
   ]
  },
  {
   "cell_type": "markdown",
   "metadata": {},
   "source": [
    "-----\n",
    "\n",
    "#### 자료형\n",
    "##### 9가지 기본 자료형\n",
    "1. 정수\n",
    "2. 실수\n",
    "3. 복소수\n",
    "4. 논리값\n",
    "5. 문자열\n",
    "6. 리스트\n",
    "7. 튜플\n",
    "8. 집합\n",
    "9. 딕셔너리\n",
    "\n",
    "##### mutable, immutable\n",
    "immutable = 죽지않는, 변수에 저장한 값을 바꿀 수 없다. (튜플 = 값 assign되면 바뀌지 않는다.)  \n",
    "mutable = 변수에 저장한 값 바꿀 수 있다.\n",
    "\n",
    "##### iterable\n",
    "군집자료형 - 문자열, 리스트, 튜플 등  \n",
    "자료를 하나씩 꺼낼 수 있다.  \n",
    "\n",
    "##### type()\n",
    "* 해당 변수가 어떤 타입의 값에 binding 되어있는지 알려주는 함수  \n",
    "어떤 type의 object를 reference하고 있는지.\n",
    "\n",
    "* 변수는 값을 저장하는 개념보다는 값을 가리키는 정보  \n",
    "a = \"문자열 변수\" 일 때는 type(a)하면 a라는 변수가 가리키는 값 '문자열 만세'의 자료형 알려준다.  \n",
    "a = 123 일 때는 a라는 변수가 가리키는 값인 123의 자료형 integer를 알려준다.\n",
    "\n",
    "\n",
    "* 원하는 자료형으로 변환 가능"
   ]
  },
  {
   "cell_type": "markdown",
   "metadata": {},
   "source": [
    "#### Arithmetic Operator 산술 연산자\n",
    "##### 우선순위\n",
    "() > */ > 등등\n",
    "\n",
    "복합 연산자  \n",
    "ex ) +=, -= 등\n",
    "\n",
    "#### Input() \n",
    "문자열 입력 함수  \n",
    "출력은 보통 print(), 파일 출력은 다른 함수  \n",
    "\n",
    "\n",
    "#### 파이썬의 명령문 형태\n",
    "1. 순차 구조\n",
    "2. 선택 구조\n",
    "3. 반복 구조\n",
    "\n",
    "\n",
    "----------"
   ]
  },
  {
   "cell_type": "markdown",
   "metadata": {},
   "source": [
    "### 문자열\n",
    "파이썬에서는 텍스트 다루는 자료형으로 String 제공  \n",
    "무조건 Unicode 사용한다(international standard).  \n",
    "\n",
    "컴퓨터에서 표시하는 내용을 모두 나타낸다.  \n",
    "아스키코드 1바이트  \n",
    "한글은 모두 2바이트 사용\n",
    "\n",
    "gitlab.com/sdldocs 자료 참고\n",
    "\n",
    "Unicode는 UTF-8 등의 표현방식 있다. \n",
    "\n",
    "문자열 쓰는 방식\n",
    "1. ' '\n",
    "2. \" \"\n",
    "3. \"\"\" \"\"\"\n",
    "4. ''' '''\n",
    "\n"
   ]
  },
  {
   "cell_type": "markdown",
   "metadata": {},
   "source": [
    "**Split()**\n",
    "\n",
    "str.split(), str.split('구분자')\n",
    "split 결과는 ~~튜플이다.~~ (?? 리스트 아닌가.) 리스트!\n",
    "\n",
    "\n",
    "\n"
   ]
  },
  {
   "cell_type": "code",
   "execution_count": 16,
   "metadata": {},
   "outputs": [],
   "source": [
    "attendees = \"이순신, 강감찬\""
   ]
  },
  {
   "cell_type": "code",
   "execution_count": 18,
   "metadata": {},
   "outputs": [
    {
     "name": "stdout",
     "output_type": "stream",
     "text": [
      "이순신, 강감찬\n",
      "<class 'list'>\n"
     ]
    }
   ],
   "source": [
    "print(attendees)\n",
    "a1, a2 = attendees.split(\",\")\n",
    "a = attendees.split(\",\")\n",
    "print(type(a))"
   ]
  },
  {
   "cell_type": "markdown",
   "metadata": {},
   "source": [
    "**print()**\n",
    "프린트 이후에 줄바꿈 안들어가게 하려면 end 옵션 설정  "
   ]
  },
  {
   "cell_type": "code",
   "execution_count": 21,
   "metadata": {},
   "outputs": [
    {
     "name": "stdout",
     "output_type": "stream",
     "text": [
      "No new line. ok?\n"
     ]
    }
   ],
   "source": [
    "print(\"No new line\", end = \". \"); print(\"ok?\")"
   ]
  },
  {
   "cell_type": "markdown",
   "metadata": {},
   "source": [
    "#### 문자열 포맷팅\n",
    "문자열 안에 다른 데이터 삽입하는 방법  \n",
    "\n"
   ]
  },
  {
   "cell_type": "code",
   "execution_count": 25,
   "metadata": {},
   "outputs": [
    {
     "name": "stdout",
     "output_type": "stream",
     "text": [
      "정수를 퍼센트로 출력해보자. 3 출력할 것 = 3\n"
     ]
    }
   ],
   "source": [
    "print(\"정수를 퍼센트로 출력해보자. 3 출력할 것 = %d\" % 3)"
   ]
  },
  {
   "cell_type": "markdown",
   "metadata": {},
   "source": [
    "str.format()"
   ]
  },
  {
   "cell_type": "code",
   "execution_count": 26,
   "metadata": {},
   "outputs": [
    {
     "name": "stdout",
     "output_type": "stream",
     "text": [
      "The light was good      .\n"
     ]
    }
   ],
   "source": [
    "print(\"The light was {:10}.\".format('good'))"
   ]
  },
  {
   "cell_type": "markdown",
   "metadata": {},
   "source": [
    "### 파일 입출력\n",
    "open(\"파일경로\", \"r\")\n",
    "\n",
    "* 옵션  \n",
    "r : 읽기 전용, read  \n",
    "w : 쓰기 전용, write  \n",
    "a : 기존 파일에 덧붙이기, append  \n",
    "\n",
    "* read  \n",
    "read() 파일 전체를 하나의 문자열로 읽음  \n",
    "readlines() 파일을 줄 단위로 읽음 한 줄씩을 원소로 하는 리스트 반환  \n",
    "readline() 한 줄 읽기 -> 그다음 읽으려면 readlines() 반복\n",
    "\n",
    "* write  \n",
    "string 문자열 하나를 파일에 쓴다. \n",
    "BUT 줄바꿈 문자는 자동으로 삽입되지 않는다.  \n",
    "\n",
    "    * [*objects] 에서 *는 무슨 의미?  \n",
    "    object가 가리키는 것.  \n",
    "    sring 말고 binary 같은 것들 쓸 때는 유용하기도 하다.    \n",
    "    * file.close()   \n",
    "    write() 끝나면 꼭 파일을 닫아주자.  \n",
    "\n",
    "* with 키워드  \n",
    "indent 잘 해주고 with 써주면 with문 종료 시 파일 자동으로 닫아준다.\n",
    "\n",
    "\n",
    "-----\n"
   ]
  },
  {
   "cell_type": "markdown",
   "metadata": {},
   "source": [
    "## Part 2 - 4 데이터 구조\n",
    "\n",
    "\n",
    "* 리스트  \n",
    "특징 : 원소들이 순서가 있고 쭉 나열되어있는 상태  \n",
    "* 튜플도 리스트와 비슷하지만 내용을 바꿀 수 없다는 것이 가장 큰 차이점  \n",
    "* 딕셔너리는 집합의 특수한 형태  \n",
    "\n",
    "\n",
    "### 리스트\n",
    "**list()**\n",
    "\n",
    "* Array와의 차이점  \n",
    "배열은 각각의 원소가 같은 데이터 타입이어야 한다.  \n",
    "리스트는 각각의 원소가 다 다른 데이터 타입이어도 된다.  \n",
    "\n",
    "* 어떤 데이터 타입이든지 list(x) 해주면 리스트로 바뀐다.\n",
    "* 튜플은 immutable 이므로 내용을 바꾸려면 lsit(x).tuple() 해주면 된다. (부득이한 경우)\n",
    "\n",
    " \n",
    "### 문자열 인덱싱\n",
    "* 인덱스 범위 : 0 ~ len(리스트)  \n",
    "* [start : end : step]  \n",
    "\n",
    "\n",
    "### 리스트 인덱싱\n",
    "* 이차원 리스트의 인덱싱"
   ]
  },
  {
   "cell_type": "code",
   "execution_count": 3,
   "metadata": {},
   "outputs": [
    {
     "name": "stdout",
     "output_type": "stream",
     "text": [
      "목요일\n",
      "h\n"
     ]
    }
   ],
   "source": [
    "A = [2020, ['목요일', 'Python'], '5-6교시']\n",
    "print(A[1][0])   # 목요일\n",
    "print(A[1][1][3]) # h"
   ]
  },
  {
   "cell_type": "markdown",
   "metadata": {},
   "source": [
    "* 슬라이싱을 이용한 원소 제거/교체/추가  \n",
    "한 개의 리스트 원소를 여러 개의 값 혹은 하나의 리스트로 넣을 수 있다."
   ]
  },
  {
   "cell_type": "code",
   "execution_count": 7,
   "metadata": {},
   "outputs": [
    {
     "name": "stdout",
     "output_type": "stream",
     "text": [
      "[0, [5, 6], 2, 3, 4]\n",
      "[0, 1, 2, 3, 4]\n",
      "[0, 5, 6, 2, 3, 4]\n"
     ]
    }
   ],
   "source": [
    "a = [0, 1, 2, 3, 4]\n",
    "\n",
    "# a = [0, [5, 6], 2, 3, 4] 로 바꾸기\n",
    "a[1] = [5,6]\n",
    "print(a)\n",
    "\n",
    "# 다시 원래대로\n",
    "a[1] = 1\n",
    "print(a)\n",
    "\n",
    "# a = [0, 5, 6, 2, 3, 4] 로 바꾸기\n",
    "a[1:2] = [5,6]\n",
    "print(a)"
   ]
  },
  {
   "cell_type": "markdown",
   "metadata": {},
   "source": [
    "* 슬라이싱을 이용해 원소 끼워넣기 (교체 X)"
   ]
  },
  {
   "cell_type": "code",
   "execution_count": 10,
   "metadata": {},
   "outputs": [
    {
     "name": "stdout",
     "output_type": "stream",
     "text": [
      "[1, 'a', 'b', 2, 3, 4, 5]\n",
      "[1, 'a', 'b', 2, 3, 4, 'c', 'd', 5]\n"
     ]
    }
   ],
   "source": [
    "a = [1,2,3,4,5]\n",
    "\n",
    "# 1 다음에 'a', 'b' 끼워넣기\n",
    "a[1:1] = ['a', 'b']\n",
    "print(a)\n",
    "\n",
    "\n",
    "# 4와 5 사이에 'c', 'd' 끼워넣기\n",
    "a[6:6] = ['c', 'd']\n",
    "print(a)"
   ]
  },
  {
   "cell_type": "markdown",
   "metadata": {},
   "source": [
    "* 리스트 복사하기  \n",
    "리스트 안에 리스트 있으면 리스트의 레퍼런스가 있는 것.  \n",
    "**주의** : 값을 복사해 따로 저장하는 것 아니고 리스트를 다른 변수에 할당하면 값 고칠 때 반영됨"
   ]
  },
  {
   "cell_type": "code",
   "execution_count": 13,
   "metadata": {},
   "outputs": [
    {
     "name": "stdout",
     "output_type": "stream",
     "text": [
      "a =  [0, 'caution', 1, 2, 3, 4]\n",
      "b =  [0, 1, 2, 3, 4]\n",
      "c =  [0, 'caution', 1, 2, 3, 4]\n"
     ]
    }
   ],
   "source": [
    "a = [0, 1, 2, 3, 4]\n",
    "b = a[:] # 값 복사해서 b에 따로 저장\n",
    "c = a # a 그대로 c에 할당 -> c는 a와 같은 리스트의 주소만 가리킴\n",
    "\n",
    "a[1:1] = ['caution']\n",
    "print(\"a = \", a)\n",
    "print(\"b = \", b)\n",
    "print(\"c = \", c)"
   ]
  },
  {
   "cell_type": "code",
   "execution_count": 16,
   "metadata": {},
   "outputs": [
    {
     "name": "stdout",
     "output_type": "stream",
     "text": [
      "b =  [0, 1, 2, 3, 100, 101, 4, 5]\n"
     ]
    }
   ],
   "source": [
    "a = [0, 1, 2, 3, 4, 5] #일 때 3 다음에 100, 101 끼워넣기\n",
    "b = a[:4] + [100, 101] + a[4:]\n",
    "print(\"b = \", b)"
   ]
  },
  {
   "cell_type": "markdown",
   "metadata": {},
   "source": [
    "-----\n",
    "### 리스트 메소드와 내장함수\n",
    "#### 메소드\n",
    "리스트 오브젝트의 인스턴스는 리스트 타입 오브젝트(?)  \n",
    "리스트 클래스 (class)   \n",
    "오브젝트는 메소드 있어야한다.  \n",
    "* dir() 하면 객체가 가지고 있는 함수나 변수 모두 알려줌\n",
    "    * append()\n",
    "    * extend() 모든 원소를 리스트의 마지막에 추가\n",
    "    * sort() 정렬\n",
    "        * a.sort()는 a 자체를 모두 정렬, 값을 반환하지 않음\n",
    "        * sort(a)는 a를 정렬한 리스트를 반환, 할당 가능\n",
    "\n"
   ]
  },
  {
   "cell_type": "code",
   "execution_count": 26,
   "metadata": {},
   "outputs": [
    {
     "name": "stdout",
     "output_type": "stream",
     "text": [
      "[0, 1, 2, 3, 4, 5, 6, 7]\n",
      "[4, 6, 2, 3, 1, 0, 5]\n",
      "None [0, 1, 2, 3, 4, 5, 6]\n",
      "[0, 1, 2, 3, 4, 5, 6]\n"
     ]
    }
   ],
   "source": [
    "a = [0, 1, 2, 3, 4]\n",
    "\n",
    "\n",
    "# extend\n",
    "a.extend([5,6,7])\n",
    "print(a)\n",
    "\n",
    "\n",
    "# sort\n",
    "a = [4, 6, 2, 3, 1, 0, 5]\n",
    "print(a)\n",
    "\n",
    "b = a.sort()\n",
    "print(b, a)\n",
    "\n",
    "c = sorted(a)\n",
    "print(c)"
   ]
  },
  {
   "cell_type": "markdown",
   "metadata": {},
   "source": [
    "#### 리스트 참조 / 복사\n",
    "**copy()** :  리스트를 복사, 주소 그대로 할당하는 것 아니고 값만 복사  (!= assign)\n",
    "**id()** : 메모리의 실제 주소\n",
    "\n",
    "shallow copy vs  decopy    vs    copy"
   ]
  },
  {
   "cell_type": "code",
   "execution_count": 28,
   "metadata": {},
   "outputs": [
    {
     "name": "stdout",
     "output_type": "stream",
     "text": [
      "2573287003776 2573316512512 False\n",
      "L =  [1, 3, 100, 7, 9]\n",
      "M =  [1, 3, 100, 7, 9]\n",
      "N =  [1, 3, 5, 7, 9]\n"
     ]
    }
   ],
   "source": [
    "L = [1, 3, 5, 7, 9] ; id(L)\n",
    "M = L # 그대로 저장  \n",
    "N = M.copy()  \n",
    "print(id(M), id(N), (id(M) == id(N)))  \n",
    "L[2] = 100  \n",
    "print(\"L = \", L)  \n",
    "print(\"M = \", M)\n",
    "print(\"N = \", N)"
   ]
  },
  {
   "cell_type": "markdown",
   "metadata": {},
   "source": [
    "* 리스트 관련 내장함수  \n",
    "**del X**"
   ]
  },
  {
   "cell_type": "code",
   "execution_count": 29,
   "metadata": {},
   "outputs": [
    {
     "name": "stdout",
     "output_type": "stream",
     "text": [
      "[1, 3, 5, 7, 9]\n"
     ]
    }
   ],
   "source": [
    "a = [0, 1, 2, 3, 4, 5, 6, 7, 8, 9, 10]\n",
    "\n",
    "del a[::2]\n",
    "print(a)"
   ]
  },
  {
   "cell_type": "markdown",
   "metadata": {},
   "source": [
    "* 메소드와 함수  \n",
    "    *  메소드 = 특정 데이터형에 대해 적용하는 함수 형태  \n",
    "<br>\n",
    "\n",
    "* 문자열의 분리(Split)와 결합(Join) 메소드 활용  \n",
    "    * **split()**, **join()**  \n",
    "<br>\n",
    "\n",
    "* range() 함수를 이용한 리스트 생성\n",
    "    * **range( start, end, step)**\n",
    "    * 유용하므로 꼭 잘 쓸 것!\n",
    "    "
   ]
  },
  {
   "cell_type": "code",
   "execution_count": 32,
   "metadata": {},
   "outputs": [
    {
     "name": "stdout",
     "output_type": "stream",
     "text": [
      "[0, 1, 2, 3, 4]\n",
      "[36, 49, 64, 81]\n",
      "[36, 49]\n"
     ]
    }
   ],
   "source": [
    "list1 = list(x for x in range(5)); print(list1)\n",
    "list2 = list(x*x for x in range(10) if x > 5); print(list2)\n",
    "list3 = [x for x in list2 if x<50]; print(list3)"
   ]
  },
  {
   "cell_type": "markdown",
   "metadata": {},
   "source": [
    "----\n",
    "\n",
    "### 튜플(tuple)  \n",
    "**tuple()**\n",
    "<br>\n",
    "* 소괄호 사용하여 표시\n",
    "    * t = (element1, element2, element3, ...)  \n",
    "<br>\n",
    "* 괄호 없어도 튜플로 인식\n",
    "    * t = 1, 2, 3\n",
    "<br>\n",
    "* 원소가 하나인 튜플 생성 시 콤마 필요\n",
    "    * t = (1,)\n",
    "    * t = 1,\n",
    "<br>\n",
    "* 튜플의 원소는 추가, 삭제, 수정 불가능 : **immutable** **자료형**\n",
    "* 리스트의 인덱싱, 슬라이싱, 연산자(+, *, in, not in), 내장함수 모두 사용 가능\n",
    "    * 슬라이싱 원소 추출 가능 But, 수정 불가능\n",
    "    * del() 함수로는 튜플 자체 삭제만 가능 But, 원소 삭제 불가능\n",
    "\n",
    "\n"
   ]
  },
  {
   "cell_type": "code",
   "execution_count": 37,
   "metadata": {},
   "outputs": [
    {
     "name": "stdout",
     "output_type": "stream",
     "text": [
      "([1, 2], [3, 4], [5, 6])\n",
      "([1, 2], [22, 23], [5, 6])\n"
     ]
    }
   ],
   "source": [
    "a = [1, 2]\n",
    "b = [3, 4]\n",
    "c = [5, 6]\n",
    "t = tuple([a, b, c])\n",
    "print(t)\n",
    "\n",
    "\n",
    "b = [22, 23]\n",
    "t = (a, b, c)\n",
    "print(t)"
   ]
  },
  {
   "cell_type": "markdown",
   "metadata": {},
   "source": [
    "* 튜플 Packing / Unpacking\n",
    "    * 패킹 : 여러 데이터를 튜플로 묶는 것\n",
    "    * 언패킹 : 튜플의 각 원소를 여러 개의 변수에 할당하는 것"
   ]
  },
  {
   "cell_type": "code",
   "execution_count": 41,
   "metadata": {},
   "outputs": [
    {
     "name": "stdout",
     "output_type": "stream",
     "text": [
      "(1, 2, 3, 4, 5)\n",
      "1 2 3 4 5\n"
     ]
    }
   ],
   "source": [
    "numbers = (1, 2, 3, 4, 5)\n",
    "print(numbers)\n",
    "\n",
    "n1, n2, n3, n4, n5 = numbers\n",
    "print(n1, n2, n3, n4, n5)"
   ]
  },
  {
   "cell_type": "markdown",
   "metadata": {},
   "source": [
    "\n",
    "\n",
    "\n",
    "* 튜플을 이용한 swap\n",
    "    * 콤마를 사용하면 괄호가 없어도 튜플로 인식한다.\n",
    "    * x, y = y, x\n",
    "* 슬라이싱으로 원소 추출 가능, but 원소 변경은 불가능\n",
    "* 연결 (+), 반복 (*), in, not in, len() 함수 사용 가능\n",
    "* 메소드\n",
    "    * dir(tuple)\n",
    "    * index()\n",
    "\n"
   ]
  },
  {
   "cell_type": "code",
   "execution_count": 5,
   "metadata": {},
   "outputs": [
    {
     "name": "stdout",
     "output_type": "stream",
     "text": [
      "['__add__', '__class__', '__class_getitem__', '__contains__', '__delattr__']\n"
     ]
    },
    {
     "data": {
      "text/plain": [
       "3"
      ]
     },
     "execution_count": 5,
     "metadata": {},
     "output_type": "execute_result"
    }
   ],
   "source": [
    "print(dir(tuple)[0:5])\n",
    "\n",
    "T = (4, 3, 5, 7, 6, 5, 7, 4, 7, 2)\n",
    "T.index(7)\n"
   ]
  },
  {
   "cell_type": "markdown",
   "metadata": {},
   "source": [
    "### 집합 \n",
    "**set()**\n",
    "\n",
    "<br>\n",
    "\n",
    "* 집합명 = {요소1, 요소2, 요소3, ...}\n",
    "* 특징\n",
    "    * 중복을 허용하지 않는다.\n",
    "        * 집합의 원소로 정수, 문자열, 튜플 가능\n",
    "        * **리스트** **불가능**\n",
    "        * 중복 불가능인데 리스트의 경우 값 변경 가능하므로 중복될까봐!\n",
    "    * 순서가 없다.\n",
    "        * 인덱싱, 슬라이싱 적용 안됨\n",
    "* 공집합\n",
    "    * set(), {}\n",
    "\n",
    "* 여러가지 자료형을 원소로 가질 수 있다. But, 변경 가능한 리스트는 불가능\n",
    "* 연산, 메소드\n",
    "    * in, not in 가능\n",
    "    * +, * 불가능\n",
    "\n",
    "\n"
   ]
  },
  {
   "cell_type": "code",
   "execution_count": 9,
   "metadata": {},
   "outputs": [
    {
     "name": "stdout",
     "output_type": "stream",
     "text": [
      "True\n",
      "False\n",
      "5는 공통원소이다.\n",
      "['__and__', '__class__', '__class_getitem__', '__contains__', '__delattr__']\n"
     ]
    }
   ],
   "source": [
    "s1 = {1, 2, 3, 4, 5}; s2 = {4, 5, 6, 7, 8}\n",
    "print(5 in s1)\n",
    "print(6 in s1)\n",
    "if (5 in s1) and (5 in s2):\n",
    "    print(\"5는 공통원소이다.\")\n",
    "print(dir(set)[0:5])\n"
   ]
  },
  {
   "cell_type": "markdown",
   "metadata": {},
   "source": [
    "* 메소드\n",
    "    * A.add(x)\n",
    "    * A.clear()\n",
    "        * A의 모든 원소 제거(공집합으로)\n",
    "    * B = A.copy()\n",
    "        * A를 B로 복사(Shallow copy)\n",
    "        * B = A 와 다른 복사\n",
    "    * A.discard(x)\n",
    "        * 집합 A에서 원소 X를 제거\n",
    "        * 없는 원소 삭제 시 에러 발생 X\n",
    "    * A.remove(x)\n",
    "        * 집합 A에서 원소 x를 제거\n",
    "        * 없는 원소 삭제 시 KeyError 발생 -> 이용 가능\n",
    "    * A.pop()\n",
    "        * 집합 A에서 임의의 원소를 하나 지우고 그 값 반환\n",
    "        * 반환되는 원소는 랜덤\n",
    "        * A가 공집합이었을 경우 KeyError\n",
    "    * A.union(B)\n",
    "        * A와 B의 합집합\n",
    "        * A | B 와 동일\n",
    "    * A.intersection(B)\n",
    "        * A와 B의 교집합\n",
    "        * A & B 와 동일\n",
    "    * A.difference(B)\n",
    "        * A와 B의 차집합\n",
    "        * A - B 와 동일\n",
    "    * isdisjoint(), issubset(), issuperset(), update(), intersection_update(), difference_update() 등"
   ]
  },
  {
   "cell_type": "markdown",
   "metadata": {},
   "source": [
    "* add()와 update()의 차이\n",
    "    * add(x)는 하나의 원소 x 추가\n",
    "    * update([x, y])처럼 여러 개의 원소 추가(B = [x, y] 는 iterable 객체)"
   ]
  },
  {
   "cell_type": "markdown",
   "metadata": {},
   "source": [
    "----------\n",
    "### 사전 / 딕셔너리 (Dictionary)  \n",
    "**dict()**  \n",
    "\n",
    "dict = {키1:값1, 키2:값2, ...}\n",
    "\n",
    "* 원소들은 순서 개념 없음\n",
    "* key = 정수/실수/문자열/튜플 = immutable 자료형만 가능 (집합과 동일)\n",
    "    * key는 고유한 값, 중복 불가\n",
    "* value 는 어떤 자료형도 가능\n",
    "\n",
    "<br>\n",
    "\n",
    "\n",
    "\n",
    "* 키를 이용해 대응되는 Value 값 얻는다.\n",
    "    * 인덱스 기호 [] 사용\n",
    "    * [] 안에 key값 지정\n",
    "    * 리스트/튜플의 경우 인덱싱 & 슬라이싱으로 순차적으로 원소 찾는다.(순서 있는 자료형이므로.)\n",
    "* in, not in, len() 가능\n",
    "    * **항상 '키'로만 in, not in 확인해야 한다.**\n",
    "    * +, * 연산 불가능\n",
    "* 빈 사전 생성\n",
    "    * dict(), {}\n",
    "\n"
   ]
  },
  {
   "cell_type": "code",
   "execution_count": 17,
   "metadata": {},
   "outputs": [
    {
     "name": "stdout",
     "output_type": "stream",
     "text": [
      "{1: 'a', 2: 'b'}\n",
      "a b\n",
      "{1: 'a', 2: 'b', 3: 'c'}\n",
      "{1: 'a', 2: 'b', 3: 'dd'}\n",
      "{2: 'b', 3: 'dd'}\n"
     ]
    }
   ],
   "source": [
    "D = dict()            \t\t# 빈 사전 생성.   D = {}와 동일\n",
    "\n",
    "D1 = {'a': 1, 'b': 1}   \t\t# key는 변경할 수 없는 object\n",
    "D2 = { 1 : 'ab', 2 : [1, 2, 3]} \t# value는 유형 제한 없음\n",
    "\n",
    "D3 = dict([(1,'a'), (2,'b')])  \t# 쌍으로 이루어진 원소를 갖는\n",
    "D4 = dict(({1,'a'}, {2,'b'}))   \t# list, tuple, set 등\n",
    "D5 = dict({(1,'a'), (2,'b')})  \t# 데이터를 가지고 생성\n",
    "print(D5)   \t\t\t# D3, D4, D5는 동일한 사전\n",
    "\n",
    "# 사전의 값 검색\n",
    "print(D5[1], D5[2])\n",
    "\n",
    "\n",
    "# 사전의 키와 값 추가\n",
    "D5[3] = 'c'\n",
    "print(D5)\n",
    "\n",
    "# 이미 키가 존재하는 경우 덮어씀\n",
    "D5[3] = 'dd'\n",
    "print(D5)\n",
    "\n",
    "# del dict[key] 딕셔너리 삭제\n",
    "del D5[1]\n",
    "print(D5)"
   ]
  },
  {
   "cell_type": "markdown",
   "metadata": {},
   "source": [
    "* 메소드\n",
    "    * D.clear()\n",
    "        * 사전의 모든 원소 삭제 (빈 사전으로 됨)\n",
    "    * D.items()\n",
    "        * key와 value 튜플로 묶은 값을 dict item 객체로 반환\n",
    "        * (key, value) 필요한 반복문에서 자주 사용\n",
    "    * D.keys()\n",
    "        * 사전의 키만 모아서 반환\n",
    "    * D.values()\n",
    "        * 사전의 값만 모아서 반환\n",
    "    * D.get(key, d)\n",
    "        * key의 value 반환\n",
    "        * key 없으면 d 반환\n",
    "        * d 주어지지 않으면 None\n",
    "    * D.pop(key, d)\n",
    "        * key에 대한 value 반환, 해당 쌍 삭제\n",
    "        * key 없으면 d 반환\n",
    "        * d 주어지지 않으면 KeyError\n",
    "    * D.copy()\n",
    "        * shallow copy\n",
    "    * D.update(other)\n",
    "        * 이미 key 존재하면 value 갱신, 없으면 새로운 쌍 추가\n",
    "* 메소드에서 반환되는 딕셔너리 키, 값들은 리스트로 변환도 가능하지만, 변환 없이도 for문에서 사용가능\n",
    "\n",
    "<br>\n",
    "\n",
    "* 내장함수\n",
    "    * len, sorted(키 정렬), list(키를 리스트로 반환), set(키를 집합으로 변환 후 반환), tuple(키를 튜플로 변환하여 반환)\n",
    "\n",
    "\n",
    "<br>"
   ]
  },
  {
   "cell_type": "markdown",
   "metadata": {},
   "source": [
    "--------------------\n",
    "## Part2 - 6 조건문과 반복문\n",
    "\n",
    "\n",
    "### 조건문\n",
    "#### if문\n",
    "\n",
    ">if conditoin:  \n",
    ">>    (tab) statement1  \n",
    ">>    (tab) statement2  \n",
    "\n",
    ">elif condition:  \n",
    ">>    (tab) statement1    \n",
    ">>    (tab) statement2  \n",
    "\n",
    ">else:  \n",
    ">>    (tab) statement1    \n",
    ">>    (tab) statement2  \n",
    "\n",
    "\n",
    "* bool() 함수 잘 사용하지 않는다. 암묵적으로 적용됨.\n",
    "\n",
    "\n",
    "\n",
    "<br>\n",
    "\n",
    "### 반복문\n",
    "#### for문\n",
    "* 무한 반복  \n",
    "* 파이썬의 for문 특징\n",
    "    * 시퀀스 자료형을 이용해 for문 가능!\n",
    "    * 시퀀스 : 순서열 형식의 데이터(iterable object)\n",
    "> for x in [시퀀스]:\n",
    ">> 명령어\n",
    "\n",
    "* for subject in ['컴퓨팅사고', '채플', '기독교', '수학기초'] 이렇게 시퀀스로 반복문 생성 가능\n",
    "* **range(begin, end, step)**\n",
    "* **break**\n",
    "\n",
    "\n",
    "<br>\n",
    "\n",
    "\n",
    "#### while문\n",
    "* 유한 반복  \n",
    "> while condition:\n",
    ">> 명령어\n",
    "* 조건에 따른 반복이므로 조건을 잘 설정해줘야 한다.\n",
    "\n"
   ]
  },
  {
   "cell_type": "code",
   "execution_count": 40,
   "metadata": {},
   "outputs": [
    {
     "name": "stdout",
     "output_type": "stream",
     "text": [
      "1부터 100 사이의 숫자를 맞추시오\n"
     ]
    },
    {
     "ename": "ValueError",
     "evalue": "invalid literal for int() with base 10: ''",
     "output_type": "error",
     "traceback": [
      "\u001b[1;31m---------------------------------------------------------------------------\u001b[0m",
      "\u001b[1;31mValueError\u001b[0m                                Traceback (most recent call last)",
      "\u001b[1;32mc:\\Users\\032\\Desktop\\파이썬\\lecture01.ipynb 셀 45\u001b[0m in \u001b[0;36m<cell line: 6>\u001b[1;34m()\u001b[0m\n\u001b[0;32m      <a href='vscode-notebook-cell:/c%3A/Users/032/Desktop/%ED%8C%8C%EC%9D%B4%EC%8D%AC/lecture01.ipynb#ch0000061?line=3'>4</a>\u001b[0m \u001b[39mprint\u001b[39m(\u001b[39m\"\u001b[39m\u001b[39m1부터 100 사이의 숫자를 맞추시오\u001b[39m\u001b[39m\"\u001b[39m)\n\u001b[0;32m      <a href='vscode-notebook-cell:/c%3A/Users/032/Desktop/%ED%8C%8C%EC%9D%B4%EC%8D%AC/lecture01.ipynb#ch0000061?line=4'>5</a>\u001b[0m \u001b[39mwhile\u001b[39;00m \u001b[39mTrue\u001b[39;00m:\n\u001b[1;32m----> <a href='vscode-notebook-cell:/c%3A/Users/032/Desktop/%ED%8C%8C%EC%9D%B4%EC%8D%AC/lecture01.ipynb#ch0000061?line=5'>6</a>\u001b[0m     guess \u001b[39m=\u001b[39m \u001b[39mint\u001b[39;49m(\u001b[39minput\u001b[39;49m(\u001b[39m\"\u001b[39;49m\u001b[39m숫자를 입력하시오: \u001b[39;49m\u001b[39m\"\u001b[39;49m))\n\u001b[0;32m      <a href='vscode-notebook-cell:/c%3A/Users/032/Desktop/%ED%8C%8C%EC%9D%B4%EC%8D%AC/lecture01.ipynb#ch0000061?line=6'>7</a>\u001b[0m     \u001b[39mif\u001b[39;00m guess \u001b[39m<\u001b[39m number:\n\u001b[0;32m      <a href='vscode-notebook-cell:/c%3A/Users/032/Desktop/%ED%8C%8C%EC%9D%B4%EC%8D%AC/lecture01.ipynb#ch0000061?line=7'>8</a>\u001b[0m         \u001b[39mprint\u001b[39m(\u001b[39m\"\u001b[39m\u001b[39m낮음!\u001b[39m\u001b[39m\"\u001b[39m)\n",
      "\u001b[1;31mValueError\u001b[0m: invalid literal for int() with base 10: ''"
     ]
    }
   ],
   "source": [
    "import random\t# 임의 수 생성 라이브러리\n",
    "\n",
    "number = random.randint(1, 100)  # 87 생성 가정\n",
    "print(\"1부터 100 사이의 숫자를 맞추시오\")\n",
    "while True:\n",
    "    guess = int(input(\"숫자를 입력하시오: \"))\n",
    "    if guess < number:\n",
    "        print(\"낮음!\")\n",
    "    elif guess > number:\n",
    "        print(\"높음!\")\n",
    "    else:\n",
    "        break\n",
    "print(\"축하합니다.\")\n"
   ]
  },
  {
   "cell_type": "markdown",
   "metadata": {},
   "source": [
    "--------\n",
    "\n",
    "\n",
    "https://gitlab.com/skflyai-pyhton/part3  \n",
    "\n",
    "git clone 해서 파일 한 번씩 돌려보기  \n",
    "part1, part2, part3  "
   ]
  },
  {
   "cell_type": "markdown",
   "metadata": {},
   "source": []
  }
 ],
 "metadata": {
  "kernelspec": {
   "display_name": "Python 3.9.13 64-bit",
   "language": "python",
   "name": "python3"
  },
  "language_info": {
   "codemirror_mode": {
    "name": "ipython",
    "version": 3
   },
   "file_extension": ".py",
   "mimetype": "text/x-python",
   "name": "python",
   "nbconvert_exporter": "python",
   "pygments_lexer": "ipython3",
   "version": "3.9.13"
  },
  "orig_nbformat": 4,
  "vscode": {
   "interpreter": {
    "hash": "5baf9473204a4b6e521a61d6cc00f38b3193fa95bdc9c384faf30949a18537e0"
   }
  }
 },
 "nbformat": 4,
 "nbformat_minor": 2
}
